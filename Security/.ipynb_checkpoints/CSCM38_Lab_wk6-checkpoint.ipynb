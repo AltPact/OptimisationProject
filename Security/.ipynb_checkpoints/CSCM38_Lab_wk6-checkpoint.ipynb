{
 "cells": [
  {
   "cell_type": "markdown",
   "id": "ce0b0c4b",
   "metadata": {},
   "source": [
    "# CSCM38 AI and Cyber Security\n",
    "## Week 6 - Python basics\n",
    "\n",
    "This week, we will get familiar with python and Jupyter notebook, which will be the programming environment for the next few weeks. If you have used python before and are familiar with Jupyter notebook, you can skip this lab.\n",
    "\n",
    "This tutorial is modified from a longer python tutorial (https://gitlab.erc.monash.edu.au/andrease/Python4Maths), which you are welcome to check if interested."
   ]
  },
  {
   "cell_type": "markdown",
   "id": "12eb7e8f",
   "metadata": {},
   "source": [
    "# Part 1. Python basics\n",
    "\n",
    "This part is modified from a longer python tutorial (https://gitlab.erc.monash.edu.au/andrease/Python4Maths), which you are welcome to check if interested."
   ]
  },
  {
   "cell_type": "markdown",
   "id": "2037e811",
   "metadata": {},
   "source": [
    "## 1.1 Getting started\n",
    "Python can be simply used as a calculator with **Arithmetic Operators**\n",
    "\n",
    "| Symbol | Task Performed |\n",
    "|----|---|\n",
    "| +  | Addition |\n",
    "| -  | Subtraction |\n",
    "| /  | Division |\n",
    "| //  | Integer division |\n",
    "| %  | Modulus (remainder) |\n",
    "| *  | Multiplication |\n",
    "| **  | Exponentiation (power) |\n",
    "\n",
    "Run the cells below and see if the results are correct:"
   ]
  },
  {
   "cell_type": "code",
   "execution_count": 1,
   "id": "57f0177d",
   "metadata": {
    "tags": []
   },
   "outputs": [
    {
     "data": {
      "text/plain": [
       "4"
      ]
     },
     "execution_count": 1,
     "metadata": {},
     "output_type": "execute_result"
    }
   ],
   "source": [
    "2**2"
   ]
  },
  {
   "cell_type": "code",
   "execution_count": 2,
   "id": "2c2cd12d",
   "metadata": {
    "tags": []
   },
   "outputs": [
    {
     "data": {
      "text/plain": [
       "45"
      ]
     },
     "execution_count": 2,
     "metadata": {},
     "output_type": "execute_result"
    }
   ],
   "source": [
    "55-10"
   ]
  },
  {
   "cell_type": "code",
   "execution_count": 3,
   "id": "3ebf4685",
   "metadata": {
    "tags": []
   },
   "outputs": [
    {
     "data": {
      "text/plain": [
       "-71"
      ]
     },
     "execution_count": 3,
     "metadata": {},
     "output_type": "execute_result"
    }
   ],
   "source": [
    "4+5-80"
   ]
  },
  {
   "cell_type": "code",
   "execution_count": 4,
   "id": "7182181d",
   "metadata": {
    "tags": []
   },
   "outputs": [
    {
     "data": {
      "text/plain": [
       "0.0"
      ]
     },
     "execution_count": 4,
     "metadata": {},
     "output_type": "execute_result"
    }
   ],
   "source": [
    "3/4*(3//4)"
   ]
  },
  {
   "cell_type": "markdown",
   "id": "d42dfcf4",
   "metadata": {},
   "source": [
    "**<span style=\"color:red\">Think: why the result of the last expression is 0?</span>**"
   ]
  },
  {
   "cell_type": "markdown",
   "id": "a4c65361",
   "metadata": {},
   "source": [
    "**<span style=\"color:blue\">TODO: try to calculate the results of the expressions below</span>**\n",
    "\n",
    "$3^6*25+\\frac{5^7}{38-9} = ?$"
   ]
  },
  {
   "cell_type": "code",
   "execution_count": 8,
   "id": "221cab9d",
   "metadata": {
    "tags": []
   },
   "outputs": [
    {
     "data": {
      "text/plain": [
       "154"
      ]
     },
     "execution_count": 8,
     "metadata": {},
     "output_type": "execute_result"
    }
   ],
   "source": [
    "# TODO: try your answer here\n",
    "3^6 * 25 + ((5^6)%(38-9))"
   ]
  },
  {
   "cell_type": "markdown",
   "id": "443ccf7e",
   "metadata": {},
   "source": [
    "## 1.2 Mathematical functions\n",
    "Common mathematical functions such as logarithms, trigonometric functions, and the constant $\\pi$ are available from the math library (see here https://docs.python.org/3/library/math.html for the documentation)\n",
    "\n",
    "You need to import the *math* library to use them. See the example below."
   ]
  },
  {
   "cell_type": "code",
   "execution_count": 9,
   "id": "e3922e1b",
   "metadata": {
    "tags": []
   },
   "outputs": [
    {
     "name": "stdout",
     "output_type": "stream",
     "text": [
      "1963.4954084936207\n"
     ]
    }
   ],
   "source": [
    "# Calculate the size of a circle with a radius of 25\n",
    "\n",
    "from math import *\n",
    "rad = 25\n",
    "print(pi*rad**2)"
   ]
  },
  {
   "cell_type": "markdown",
   "id": "1d131a3e",
   "metadata": {},
   "source": [
    "**<span style=\"color:blue\">TODO: try to calculate the results of the expressions below</span>**\n",
    "\n",
    "$\\log{(\\sin{\\frac{\\pi}{2}}+\\cos{\\frac{\\pi}{2}})} = ?$"
   ]
  },
  {
   "cell_type": "code",
   "execution_count": 12,
   "id": "11740d0b",
   "metadata": {
    "scrolled": true,
    "tags": []
   },
   "outputs": [
    {
     "data": {
      "text/plain": [
       "-0.8767171085319079"
      ]
     },
     "execution_count": 12,
     "metadata": {},
     "output_type": "execute_result"
    }
   ],
   "source": [
    "# TODO: try your answer here\n",
    "import math\n",
    "math.log(math.sin(math.pi) + math.cos(math.pi%2))"
   ]
  },
  {
   "cell_type": "markdown",
   "id": "3cdb41ed",
   "metadata": {},
   "source": [
    "**<span style=\"color:blue\">TODO: try to calculate the results of the expressions below</span>**\n",
    "\n",
    "$e^{i\\pi} + 1 = ?$\n",
    "\n",
    "$i$ is the imageinary unit, which is `1j` in python (https://docs.python.org/3/library/cmath.html)"
   ]
  },
  {
   "cell_type": "code",
   "execution_count": 16,
   "id": "7232478f",
   "metadata": {
    "tags": []
   },
   "outputs": [
    {
     "ename": "TypeError",
     "evalue": "unsupported operand type(s) for ^: 'float' and 'complex'",
     "output_type": "error",
     "traceback": [
      "\u001b[1;31m---------------------------------------------------------------------------\u001b[0m",
      "\u001b[1;31mTypeError\u001b[0m                                 Traceback (most recent call last)",
      "Cell \u001b[1;32mIn[16], line 2\u001b[0m\n\u001b[0;32m      1\u001b[0m \u001b[38;5;66;03m# TODO: try your answer here\u001b[39;00m\n\u001b[1;32m----> 2\u001b[0m \u001b[43mmath\u001b[49m\u001b[38;5;241;43m.\u001b[39;49m\u001b[43me\u001b[49m\u001b[38;5;241;43m^\u001b[39;49m\u001b[43m(\u001b[49m\u001b[38;5;241;43m1\u001b[39;49m\u001b[43mj\u001b[49m\u001b[38;5;241;43m*\u001b[39;49m\u001b[43mmath\u001b[49m\u001b[38;5;241;43m.\u001b[39;49m\u001b[43mpi\u001b[49m\u001b[43m)\u001b[49m\u001b[43m \u001b[49m\u001b[38;5;241;43m+\u001b[39;49m\u001b[43m \u001b[49m\u001b[38;5;241;43m1\u001b[39;49m\n",
      "\u001b[1;31mTypeError\u001b[0m: unsupported operand type(s) for ^: 'float' and 'complex'"
     ]
    }
   ],
   "source": [
    "# TODO: try your answer here\n",
    "math.e^(1j*math.pi) + 1"
   ]
  },
  {
   "cell_type": "markdown",
   "id": "6702cb97",
   "metadata": {},
   "source": [
    "\n",
    "## 1.3 Data Structures\n",
    "Data structures allow us to group, store and operate collections of items. In Python, `list`, `tuple`, `dict` and `set` are common build-in dagta structures."
   ]
  },
  {
   "cell_type": "markdown",
   "id": "f085c36a",
   "metadata": {},
   "source": [
    "## 1.3.1 Lists"
   ]
  },
  {
   "cell_type": "markdown",
   "id": "76143227",
   "metadata": {},
   "source": [
    "A list is a sequence of data/elements. Two adjcent elements are separated by a comma. Each element of a list can be accessed by the position of the element within the list.\n",
    "\n",
    "Lists are declared by just equating a variable to `[ ]` or list."
   ]
  },
  {
   "cell_type": "code",
   "execution_count": 17,
   "id": "1ec8ec2f",
   "metadata": {
    "tags": []
   },
   "outputs": [],
   "source": [
    "empty_list = []"
   ]
  },
  {
   "cell_type": "code",
   "execution_count": 18,
   "id": "4a203265",
   "metadata": {
    "tags": []
   },
   "outputs": [
    {
     "data": {
      "text/plain": [
       "list"
      ]
     },
     "execution_count": 18,
     "metadata": {},
     "output_type": "execute_result"
    }
   ],
   "source": [
    "type(empty_list)"
   ]
  },
  {
   "cell_type": "markdown",
   "id": "229a5852",
   "metadata": {},
   "source": [
    "One can directly assign the sequence of data to a list x as shown."
   ]
  },
  {
   "cell_type": "code",
   "execution_count": 19,
   "id": "643b7248",
   "metadata": {
    "tags": []
   },
   "outputs": [],
   "source": [
    "x = ['apple', 'orange']"
   ]
  },
  {
   "cell_type": "markdown",
   "id": "1e9cfeb7",
   "metadata": {},
   "source": [
    "### List indexing"
   ]
  },
  {
   "cell_type": "markdown",
   "id": "724d9447",
   "metadata": {},
   "source": [
    "In python, indexing starts from 0. Thus now the list x, which has two elements will have apple at 0 index and orange at 1 index. "
   ]
  },
  {
   "cell_type": "code",
   "execution_count": 20,
   "id": "8b59dde6",
   "metadata": {
    "tags": []
   },
   "outputs": [
    {
     "data": {
      "text/plain": [
       "'apple'"
      ]
     },
     "execution_count": 20,
     "metadata": {},
     "output_type": "execute_result"
    }
   ],
   "source": [
    "x[0]"
   ]
  },
  {
   "cell_type": "markdown",
   "id": "aa8927d0",
   "metadata": {},
   "source": [
    "Indexing can also be done in reverse order. That is the last element can be accessed first. Here, indexing starts from -1 (i.e., the last one in the list). Thus index value -1 will be orange and index -2 will be apple."
   ]
  },
  {
   "cell_type": "code",
   "execution_count": 21,
   "id": "17a1ba63",
   "metadata": {
    "tags": []
   },
   "outputs": [
    {
     "data": {
      "text/plain": [
       "'orange'"
      ]
     },
     "execution_count": 21,
     "metadata": {},
     "output_type": "execute_result"
    }
   ],
   "source": [
    "x[-1]"
   ]
  },
  {
   "cell_type": "markdown",
   "id": "941668ab",
   "metadata": {},
   "source": [
    "**<span style=\"color:blue\">TODO: try to make a list of all days of a week</span>**\n",
    "\n",
    "Week = [Mon, Tue, Wed, Thu, Fri, Sat, Sun]\n",
    "\n",
    "and try to access the element `Wed` from the index of the list"
   ]
  },
  {
   "cell_type": "code",
   "execution_count": 23,
   "id": "4ca50df9",
   "metadata": {
    "tags": []
   },
   "outputs": [
    {
     "data": {
      "text/plain": [
       "'Wed'"
      ]
     },
     "execution_count": 23,
     "metadata": {},
     "output_type": "execute_result"
    }
   ],
   "source": [
    "# TODO: try your answer here\n",
    "Week = ['Mon', 'Tue', 'Wed', 'Thu', 'Fri', 'Sat', 'Sun']\n",
    "Week[2]"
   ]
  },
  {
   "cell_type": "markdown",
   "id": "8581ee38",
   "metadata": {},
   "source": [
    "**Nested list**: each element in a list can itself be a list, for example:"
   ]
  },
  {
   "cell_type": "code",
   "execution_count": 24,
   "id": "dee24b67",
   "metadata": {
    "tags": []
   },
   "outputs": [],
   "source": [
    "x=[['apple', 'orange'], ['carrot', 'potato']]"
   ]
  },
  {
   "cell_type": "markdown",
   "id": "fee805d5",
   "metadata": {},
   "source": [
    "Indexing in nested lists can be quite confusing if you do not understand how indexing works in python. So let us break it down and then arrive at a conclusion.\n",
    "\n",
    "Let us access the data 'apple' in the above nested list.\n",
    "First, at index 0 there is a list ['apple','orange'] and at index 1 there is another list ['carrot','potato']. Hence `x[0]` should give us the first list which contains 'apple' and 'orange'. From this list we can take the second element (index 1) to get 'orange'"
   ]
  },
  {
   "cell_type": "code",
   "execution_count": 25,
   "id": "82abcc0c",
   "metadata": {
    "tags": []
   },
   "outputs": [
    {
     "name": "stdout",
     "output_type": "stream",
     "text": [
      "orange\n"
     ]
    }
   ],
   "source": [
    "print(x[0][1])"
   ]
  },
  {
   "cell_type": "markdown",
   "id": "33833ae7",
   "metadata": {},
   "source": [
    "Finally, Lists do not have to be homogenous. Each element can be of a different type:"
   ]
  },
  {
   "cell_type": "code",
   "execution_count": 26,
   "id": "348477ae",
   "metadata": {
    "tags": []
   },
   "outputs": [
    {
     "data": {
      "text/plain": [
       "['this is a valid list', 2, 3.6, (1+2j), ['a', 'sublist']]"
      ]
     },
     "execution_count": 26,
     "metadata": {},
     "output_type": "execute_result"
    }
   ],
   "source": [
    "[\"this is a valid list\",2,3.6,(1+2j),[\"a\",\"sublist\"]]"
   ]
  },
  {
   "cell_type": "markdown",
   "id": "b5286ea8",
   "metadata": {},
   "source": [
    "### List slicing\n",
    "Slicing allows you to access multiple elements at the same time.\n",
    "\n",
    "Slicing is done by defining the index values of the first element and the last element from the parent list that is required in the sliced list. It is written as parentlist `[a : b]` where `a,b` are the index values from the parent list. If `a` or `b` is not defined then the index value is considered to be the first value for `a` if a is not defined and the last value for `b` when b is not defined."
   ]
  },
  {
   "cell_type": "code",
   "execution_count": 27,
   "id": "34a80e6b",
   "metadata": {
    "tags": []
   },
   "outputs": [
    {
     "name": "stdout",
     "output_type": "stream",
     "text": [
      "[0, 1, 2, 3]\n",
      "[4, 5, 6, 7, 8, 9]\n"
     ]
    }
   ],
   "source": [
    "num = [0,1,2,3,4,5,6,7,8,9]\n",
    "print(num[0:4])\n",
    "print(num[4:])"
   ]
  },
  {
   "cell_type": "markdown",
   "id": "e6e4c730",
   "metadata": {},
   "source": [
    "You can also slice a parent list with a fixed length or step length."
   ]
  },
  {
   "cell_type": "code",
   "execution_count": 28,
   "id": "7001a9eb",
   "metadata": {
    "tags": []
   },
   "outputs": [
    {
     "data": {
      "text/plain": [
       "[0, 3, 6]"
      ]
     },
     "execution_count": 28,
     "metadata": {},
     "output_type": "execute_result"
    }
   ],
   "source": [
    "num[:9:3]"
   ]
  },
  {
   "cell_type": "markdown",
   "id": "76e83aad",
   "metadata": {},
   "source": [
    "**<span style=\"color:blue\">TODO: try to access all even numbers in the list `num` above using slicing</span>**"
   ]
  },
  {
   "cell_type": "code",
   "execution_count": 29,
   "id": "dea14de2",
   "metadata": {
    "tags": []
   },
   "outputs": [],
   "source": [
    "num = [0,1,2,3,4,5,6,7,8,9]\n",
    "# TODO: try your answer here\n"
   ]
  },
  {
   "cell_type": "markdown",
   "id": "48a19e2f",
   "metadata": {},
   "source": [
    "### Built in List Functions"
   ]
  },
  {
   "cell_type": "markdown",
   "id": "66a55d0b",
   "metadata": {},
   "source": [
    "To find the length of the list or the number of elements in a list, `len( )` is used."
   ]
  },
  {
   "cell_type": "code",
   "execution_count": null,
   "id": "28485320",
   "metadata": {},
   "outputs": [],
   "source": [
    "num = [0,1,2,3,4,5,6,7,8,9]\n",
    "len(num)"
   ]
  },
  {
   "cell_type": "markdown",
   "id": "13eb5b77",
   "metadata": {},
   "source": [
    "If the list consists of all integer elements then `min( )` and `max( )` gives the minimum and maximum value in the list. Similarly `sum` is the sum"
   ]
  },
  {
   "cell_type": "code",
   "execution_count": null,
   "id": "1774c455",
   "metadata": {},
   "outputs": [],
   "source": [
    "print(\"min =\",min(num),\"  max =\",max(num),\"  total =\",sum(num))"
   ]
  },
  {
   "cell_type": "markdown",
   "id": "e5317f0d",
   "metadata": {},
   "source": [
    "Lists can be concatenated by adding, '+' them. The resultant list will contain all the elements of the lists that were added. The resultant list will not be a nested list."
   ]
  },
  {
   "cell_type": "code",
   "execution_count": null,
   "id": "acea3810",
   "metadata": {},
   "outputs": [],
   "source": [
    "[1,2,3] + [5,4,7]"
   ]
  },
  {
   "cell_type": "markdown",
   "id": "ac6d8c94",
   "metadata": {},
   "source": [
    "`count( )` is used to count the number of a particular element that is present in the list. "
   ]
  },
  {
   "cell_type": "code",
   "execution_count": null,
   "id": "df7d68e5",
   "metadata": {},
   "outputs": [],
   "source": [
    "num = [0,1,2,3,4,5,6,7,8,9,9]\n",
    "num.count(9)"
   ]
  },
  {
   "cell_type": "markdown",
   "id": "2499b377",
   "metadata": {},
   "source": [
    "`index( )` is used to find the index value of a particular element. Note that if there are multiple elements of the same value then the first index value of that element is returned."
   ]
  },
  {
   "cell_type": "code",
   "execution_count": null,
   "id": "acf8ed9f",
   "metadata": {},
   "outputs": [],
   "source": [
    "num = [0,1,2,3,4,5,6,7,8,9,9]\n",
    "num.index(9)"
   ]
  },
  {
   "cell_type": "markdown",
   "id": "d6a912dd",
   "metadata": {},
   "source": [
    "One can remove element by specifying the element itself using the `remove( )` function."
   ]
  },
  {
   "cell_type": "code",
   "execution_count": null,
   "id": "29dd78dc",
   "metadata": {},
   "outputs": [],
   "source": [
    "num = [0,1,2,3,4,5,6,7,8,9]\n",
    "num.remove(8)\n",
    "print(num)"
   ]
  },
  {
   "cell_type": "markdown",
   "id": "f1d9a2bf",
   "metadata": {},
   "source": [
    "Alternative to `remove` function but with using index value is `del`"
   ]
  },
  {
   "cell_type": "code",
   "execution_count": null,
   "id": "3edd5fea",
   "metadata": {},
   "outputs": [],
   "source": [
    "num = [0,1,2,3,4,5,6,7,8,9]\n",
    "del num[8]\n",
    "print(num)"
   ]
  },
  {
   "cell_type": "markdown",
   "id": "09ad9069",
   "metadata": {},
   "source": [
    "### List comprehension\n",
    "A very powerful concept in Python (that also applies to Tuples, sets and dictionaries as we will see below), is the ability to define lists using list comprehension (looping) expression. For example:"
   ]
  },
  {
   "cell_type": "code",
   "execution_count": null,
   "id": "35b373dc",
   "metadata": {},
   "outputs": [],
   "source": [
    "[i**2 for i in [1,2,3]]"
   ]
  },
  {
   "cell_type": "markdown",
   "id": "095d4936",
   "metadata": {},
   "source": [
    "In general this takes the form of `[ <expression> for <variable> in <List> ]`. That is a new list is constructed by taking each element of the given List is turn, assigning it to the variable and then evaluating the expression with this variable assignment.\n",
    "\n",
    "As can be seen this constructs a new list by taking each element of the original `[1,2,3]` and squaring it. We can have multiple such implied loops to get for example:"
   ]
  },
  {
   "cell_type": "code",
   "execution_count": null,
   "id": "cccafc00",
   "metadata": {},
   "outputs": [],
   "source": [
    "print([10*i+j for i in [1,2,3] for j in [5,7]])"
   ]
  },
  {
   "cell_type": "markdown",
   "id": "31ce1339",
   "metadata": {},
   "source": [
    "**<span style=\"color:blue\">TODO: try use list comprehension to get the first 5 numbers in every hundred</span>**\n",
    "\n",
    "`[1, 2, 3, 4, 5, 101, 102, 103, 104, 105, 301, 302, 303, 304, 305, 401, 402, 403, 404, 405]`"
   ]
  },
  {
   "cell_type": "code",
   "execution_count": null,
   "id": "2bb338fb",
   "metadata": {},
   "outputs": [],
   "source": [
    "# TODO: try your answer here\n"
   ]
  },
  {
   "cell_type": "markdown",
   "id": "da48eae0",
   "metadata": {},
   "source": [
    "## 1.3.2 Tuples\n",
    "\n",
    "- Tuples are immutable --> They cannnot be changed once created.\n",
    "- Lists are mutable --> Their elements can be changed."
   ]
  },
  {
   "cell_type": "markdown",
   "id": "6e1fa75b",
   "metadata": {},
   "source": [
    "To define a tuple, a variable is assigned to paranthesis `( )` or `tuple( )`."
   ]
  },
  {
   "cell_type": "code",
   "execution_count": null,
   "id": "c23a3229",
   "metadata": {},
   "outputs": [],
   "source": [
    "tup = () # empty, zero-length tuple\n",
    "tup2 = tuple()\n",
    "tup3 = (1,2,3,4) # assign values when declaring a tuple\n",
    "tup4 = (1,2,\"Tuesday\",4) # similar to a list, elements in a tuple can have different types"
   ]
  },
  {
   "cell_type": "code",
   "execution_count": null,
   "id": "2f13bd0b",
   "metadata": {},
   "outputs": [],
   "source": [
    "origin = (0.0,0.0,0.0)\n",
    "x = origin\n",
    "# x[1] = 1    # This will throw an error, becuase tuples are imutable\n",
    "x = (1, 0, 0) # perfectly OK\n",
    "print(x)\n",
    "print(type(x))"
   ]
  },
  {
   "cell_type": "markdown",
   "id": "c21e7ef1",
   "metadata": {},
   "source": [
    "It follows the same indexing and slicing as Lists."
   ]
  },
  {
   "cell_type": "code",
   "execution_count": null,
   "id": "2700d6f0",
   "metadata": {
    "scrolled": true
   },
   "outputs": [],
   "source": [
    "print(tup3[1])\n",
    "tup5 = tup4[:3]\n",
    "print(tup5)"
   ]
  },
  {
   "cell_type": "markdown",
   "id": "acf476fb",
   "metadata": {},
   "source": [
    "Tuples are useful when you want to assign multiple values at the same time."
   ]
  },
  {
   "cell_type": "code",
   "execution_count": null,
   "id": "c2364530",
   "metadata": {},
   "outputs": [],
   "source": [
    "# An example of a personal record\n",
    "person=('John','male','42','Swansea')\n",
    "name,gender,age,location = person      # assigned 4 attributes at once\n",
    "print(name,gender,age,location)"
   ]
  },
  {
   "cell_type": "markdown",
   "id": "76925475",
   "metadata": {},
   "source": [
    "### Built In Tuple functions"
   ]
  },
  {
   "cell_type": "markdown",
   "id": "064e3e62",
   "metadata": {},
   "source": [
    "`count()` function counts the number of specified element that is present in the tuple."
   ]
  },
  {
   "cell_type": "code",
   "execution_count": null,
   "id": "a8781d23",
   "metadata": {},
   "outputs": [],
   "source": [
    "d=tuple('a string with many \"a\"s')\n",
    "d.count('a')\n",
    "print(d)"
   ]
  },
  {
   "cell_type": "markdown",
   "id": "669d50e4",
   "metadata": {},
   "source": [
    "`index()` function returns the index of the specified element. If the elements are more than one then the index of the first element of that specified element is returned"
   ]
  },
  {
   "cell_type": "code",
   "execution_count": null,
   "id": "d5b29a3b",
   "metadata": {},
   "outputs": [],
   "source": [
    "d.index('a')"
   ]
  },
  {
   "cell_type": "markdown",
   "id": "f814f638",
   "metadata": {},
   "source": [
    "Note that many of the other list functions such as `min()`, `max()`, `sum()` and `sorted()`, as well as the operator `in`, also work for tuples in the expected way."
   ]
  },
  {
   "cell_type": "markdown",
   "id": "48a18782",
   "metadata": {},
   "source": [
    "## 1.3.2 Sets"
   ]
  },
  {
   "cell_type": "markdown",
   "id": "98392da9",
   "metadata": {},
   "source": [
    "Sets are mainly used to eliminate repeated numbers in a sequence/list. It is also used to perform some standard set operations.\n",
    "\n",
    "Sets are declared as `set()` which will initialize a empty set. Also `set([sequence])` can be executed to declare a set with elements. Note that unlike lists, the elements of a set are not in a sequence and cannot be accessed by an index."
   ]
  },
  {
   "cell_type": "code",
   "execution_count": null,
   "id": "43d13e74",
   "metadata": {},
   "outputs": [],
   "source": [
    "set1 = set()\n",
    "print(type(set1))"
   ]
  },
  {
   "cell_type": "code",
   "execution_count": null,
   "id": "1710b7fc",
   "metadata": {},
   "outputs": [],
   "source": [
    "set0 = set([1,2,2,3,3,4])\n",
    "set1 = {3,3,4,1,2,2} # equivalent to the above\n",
    "print(set0) # order is not preserved\n",
    "print(set1) "
   ]
  },
  {
   "cell_type": "markdown",
   "id": "99ea525f",
   "metadata": {},
   "source": [
    "elements 2,3 which are repeated twice are seen only once. Thus in a set each element is distinct."
   ]
  },
  {
   "cell_type": "markdown",
   "id": "55155081",
   "metadata": {},
   "source": [
    "### Built-in Functions"
   ]
  },
  {
   "cell_type": "markdown",
   "id": "205fc4e7",
   "metadata": {},
   "source": [
    "`union( )` function returns a set which contains all the elements of both the sets without repition."
   ]
  },
  {
   "cell_type": "code",
   "execution_count": null,
   "id": "3e06a595",
   "metadata": {},
   "outputs": [],
   "source": [
    "set1 = set([1,2,3])\n",
    "set2 = set([2,3,4,5])\n",
    "set1.union(set2)"
   ]
  },
  {
   "cell_type": "markdown",
   "id": "8cdb2a5d",
   "metadata": {},
   "source": [
    "`add( )` will add a particular element into the set. Note that the index of the newly added element is arbitrary and can be placed anywhere not neccessarily in the end."
   ]
  },
  {
   "cell_type": "code",
   "execution_count": null,
   "id": "e8fe6a80",
   "metadata": {},
   "outputs": [],
   "source": [
    "set1 = set([1,2,3])\n",
    "set1.add(0)\n",
    "set1"
   ]
  },
  {
   "cell_type": "markdown",
   "id": "79148617",
   "metadata": {},
   "source": [
    "`intersection( )` outputs a set which contains all the elements that are in both sets."
   ]
  },
  {
   "cell_type": "code",
   "execution_count": null,
   "id": "23e90b22",
   "metadata": {},
   "outputs": [],
   "source": [
    "set1 = set([1,2,3])\n",
    "set2 = set([2,3,4,5])\n",
    "set1.intersection(set2)"
   ]
  },
  {
   "cell_type": "markdown",
   "id": "ed9c7a2b",
   "metadata": {},
   "source": [
    "`difference( )` ouptuts a set which contains elements that are in set1 and not in set2."
   ]
  },
  {
   "cell_type": "code",
   "execution_count": null,
   "id": "9a99aabb",
   "metadata": {},
   "outputs": [],
   "source": [
    "set1.difference(set2)"
   ]
  },
  {
   "cell_type": "markdown",
   "id": "0396f917",
   "metadata": {},
   "source": [
    "`symmetric_difference( )` gives the set of elements that are only in one of the two given sets, but not present in both sets."
   ]
  },
  {
   "cell_type": "code",
   "execution_count": null,
   "id": "da6272aa",
   "metadata": {},
   "outputs": [],
   "source": [
    "set2.symmetric_difference(set1)"
   ]
  },
  {
   "cell_type": "markdown",
   "id": "a25bf359",
   "metadata": {},
   "source": [
    "`remove( )` function deletes the specified element from the set."
   ]
  },
  {
   "cell_type": "code",
   "execution_count": null,
   "id": "05515222",
   "metadata": {},
   "outputs": [],
   "source": [
    "set1 = set([1,2,3])\n",
    "print(set1)\n",
    "set1.remove(2)\n",
    "print(set1)"
   ]
  },
  {
   "cell_type": "markdown",
   "id": "ff87c48c",
   "metadata": {},
   "source": [
    "`clear( )` is used to clear all the elements and make that set an empty set."
   ]
  },
  {
   "cell_type": "markdown",
   "id": "da42f21e",
   "metadata": {},
   "source": [
    "set1.clear()\n",
    "print(set1)"
   ]
  },
  {
   "cell_type": "markdown",
   "id": "612a1312",
   "metadata": {},
   "source": [
    "# 1.4 Flow control statements\n",
    "Similar to other high-level programming languages (C/C++, Java, etc.), you can use common keywords such as `for`, `while`, `if` to control loops and the flow of execution. It is likely that you have encountered these keywords in other languages, even if you have not used Python before. In any case, see this tutorial for further information (https://gitlab.erc.monash.edu.au/andrease/Python4Maths)"
   ]
  },
  {
   "cell_type": "markdown",
   "id": "4e16dcf9",
   "metadata": {},
   "source": [
    "# 1.5 Plotting\n",
    "Many Python libraries can plot a wide range of figures. Here, we look at a few examples using the library `Matplotlib`. See the documentation for more details (https://matplotlib.org/)"
   ]
  },
  {
   "cell_type": "markdown",
   "id": "2a72a3e4",
   "metadata": {},
   "source": [
    "## 1.5.1 Line plots"
   ]
  },
  {
   "cell_type": "code",
   "execution_count": null,
   "id": "62855b62",
   "metadata": {},
   "outputs": [],
   "source": [
    "import matplotlib.pyplot as plt\n",
    "import numpy as np\n",
    "import scipy.stats as stats\n",
    "import math\n",
    "\n",
    "plt.figure()\n",
    "x = [1,2,3]\n",
    "y = [10,20,30]\n",
    "plt.plot(x,y)\n",
    "plt.xlabel('x-axis')\n",
    "plt.ylabel('y-axis')\n",
    "plt.title('simple linear function')\n",
    "plt.show()\n",
    "\n",
    "# Here we use array structures from the library numpy instread of lists, \n",
    "# as there are more build-in functions for arrays\n",
    "plt.figure()\n",
    "x1 = np.linspace(0,2*pi,num=1000)\n",
    "y1 = np.sin(x1)\n",
    "plt.plot(x1,y1,'r')    # set color in red\n",
    "plt.xlabel('x-axis')\n",
    "plt.ylabel('y-axis')\n",
    "plt.title('simple sin wave function')\n",
    "plt.show()"
   ]
  },
  {
   "attachments": {
    "image.png": {
     "image/png": "[encoded data removed]"
    }
   },
   "cell_type": "markdown",
   "id": "c7f4faf2",
   "metadata": {},
   "source": [
    "**<span style=\"color:blue\">TODO: try plot a figure to show the values of two functions below:</span>**\n",
    "\n",
    "$y3=5+sin^2(x), \\textbf{where} x=[1,10]$\n",
    "\n",
    "$y4=6+cos^{14}(x), \\textbf{where} x=[1,10]$  \n",
    "Try to plot y3 in the standard color and plot y4 in red. Your plot should look similar to this:\n",
    "![image.png](attachment:image.png)"
   ]
  },
  {
   "cell_type": "code",
   "execution_count": null,
   "id": "912829be",
   "metadata": {},
   "outputs": [],
   "source": [
    "# TODO: try your answer here\n"
   ]
  },
  {
   "cell_type": "markdown",
   "id": "2eb8b7c8",
   "metadata": {},
   "source": [
    "##  1.5.2 Scatter plots and histrogram"
   ]
  },
  {
   "cell_type": "code",
   "execution_count": null,
   "id": "13be73de",
   "metadata": {},
   "outputs": [],
   "source": [
    "plt.figure()\n",
    "x1 = np.random.normal(0,1,1000)  # x1, y1 are 1000 independent samples from a normal distribution\n",
    "y1 = np.random.normal(0,1,1000)\n",
    "plt.scatter(x1,y1)    # set color in red\n",
    "plt.xlabel('x-axis')\n",
    "plt.ylabel('y-axis')\n",
    "plt.title('samples from normal distribution')\n",
    "plt.show()\n",
    "\n",
    "# Histrogram shows the sampled distribution from x1\n",
    "# As you can see it follows a normal distribution\n",
    "plt.figure()\n",
    "plt.hist(x1,100)        # histrogram with 100 bins\n",
    "plt.xlabel('x1 values')\n",
    "plt.ylabel('count')\n",
    "plt.title('sampled distribution')\n",
    "plt.show()"
   ]
  },
  {
   "attachments": {
    "image.png": {
     "image/png": "[encoded data removed]"
    }
   },
   "cell_type": "markdown",
   "id": "765f9077",
   "metadata": {},
   "source": [
    "**<span style=\"color:blue\">TODO: get a scatter plot for (x,y)</span>**\n",
    "\n",
    "$x$ in the range of $[-10, 10]$, and $y=x+\\eta$, where \n",
    "$\\eta$ is an independent sample from a normal distribution with mean 5 and standard deviation 2\n",
    "\n",
    "Your figure should look similar to this:\n",
    "![image.png](attachment:image.png)"
   ]
  },
  {
   "cell_type": "code",
   "execution_count": null,
   "id": "53156ee5",
   "metadata": {},
   "outputs": [],
   "source": [
    "# TODO: try your answer here\n"
   ]
  },
  {
   "cell_type": "markdown",
   "id": "210a1ebd",
   "metadata": {},
   "source": [
    "**<span style=\"color:blue\">TODO: explore other types of plots on https://matplotlib.org/stable/gallery/ and try some interesting ones here</span>**"
   ]
  },
  {
   "cell_type": "code",
   "execution_count": null,
   "id": "716f9b16",
   "metadata": {},
   "outputs": [],
   "source": []
  }
 ],
 "metadata": {
  "kernelspec": {
   "display_name": "Python 3 (ipykernel)",
   "language": "python",
   "name": "python3"
  },
  "language_info": {
   "codemirror_mode": {
    "name": "ipython",
    "version": 3
   },
   "file_extension": ".py",
   "mimetype": "text/x-python",
   "name": "python",
   "nbconvert_exporter": "python",
   "pygments_lexer": "ipython3",
   "version": "3.8.0"
  }
 },
 "nbformat": 4,
 "nbformat_minor": 5
}
