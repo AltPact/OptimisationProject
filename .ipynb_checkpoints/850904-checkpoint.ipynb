{
 "cells": [
  {
   "cell_type": "code",
   "execution_count": 599,
   "id": "554f3817-121b-45cf-ae18-2cdbcdb1d967",
   "metadata": {},
   "outputs": [],
   "source": [
    "#Starting Optimasation Coursework"
   ]
  },
  {
   "cell_type": "code",
   "execution_count": 627,
   "id": "7722ee20-00f8-4f14-8a72-a5545962c328",
   "metadata": {},
   "outputs": [
    {
     "data": {
      "text/plain": [
       "'\\nStudent ID: 850904\\nStudent name/Author: Ashley Arik\\n'"
      ]
     },
     "execution_count": 627,
     "metadata": {},
     "output_type": "execute_result"
    }
   ],
   "source": [
    "\"\"\"\n",
    "Student ID: 850904\n",
    "Student name/Author: Ashley Arik\n",
    "\"\"\""
   ]
  },
  {
   "cell_type": "code",
   "execution_count": 600,
   "id": "90e6ea7a-8438-4ba4-bc70-a48d87ae77cb",
   "metadata": {},
   "outputs": [],
   "source": [
    "# g1(x) = 13600 − τ (x) ≥ 0\n",
    "# g2(x) = 30000 − σ(x) ≥ 0\n",
    "# g3(x) = x4 − x1 ≥ 0\n",
    "# g4(x) = Pc(x) − 6000 ≥ 0\n",
    "# x1, x2 ∈ [0.125, 5] ⊂ R\n",
    "# x3, x4 ∈ [0.1, 10] ⊂ R"
   ]
  },
  {
   "cell_type": "code",
   "execution_count": 601,
   "id": "30d9b3d8-2c58-4c98-bcbb-fe185fded5e4",
   "metadata": {},
   "outputs": [
    {
     "name": "stdout",
     "output_type": "stream",
     "text": [
      "Requirement already satisfied: numpy in c:\\python310\\lib\\site-packages (1.23.4)\n",
      "C:\\Python310\\python.exe\n"
     ]
    },
    {
     "name": "stderr",
     "output_type": "stream",
     "text": [
      "\n",
      "[notice] A new release of pip available: 22.3 -> 22.3.1\n",
      "[notice] To update, run: python.exe -m pip install --upgrade pip\n"
     ]
    },
    {
     "name": "stdout",
     "output_type": "stream",
     "text": [
      "Requirement already satisfied: matplotlib in c:\\python310\\lib\\site-packages (3.6.1)\n",
      "Requirement already satisfied: pyparsing>=2.2.1 in c:\\python310\\lib\\site-packages (from matplotlib) (3.0.9)\n",
      "Requirement already satisfied: fonttools>=4.22.0 in c:\\python310\\lib\\site-packages (from matplotlib) (4.38.0)\n",
      "Requirement already satisfied: contourpy>=1.0.1 in c:\\python310\\lib\\site-packages (from matplotlib) (1.0.5)\n",
      "Requirement already satisfied: pillow>=6.2.0 in c:\\python310\\lib\\site-packages (from matplotlib) (9.2.0)\n",
      "Requirement already satisfied: numpy>=1.19 in c:\\python310\\lib\\site-packages (from matplotlib) (1.23.4)\n",
      "Requirement already satisfied: python-dateutil>=2.7 in c:\\python310\\lib\\site-packages (from matplotlib) (2.8.2)\n",
      "Requirement already satisfied: cycler>=0.10 in c:\\python310\\lib\\site-packages (from matplotlib) (0.11.0)\n",
      "Requirement already satisfied: kiwisolver>=1.0.1 in c:\\python310\\lib\\site-packages (from matplotlib) (1.4.4)\n",
      "Requirement already satisfied: packaging>=20.0 in c:\\python310\\lib\\site-packages (from matplotlib) (21.3)\n",
      "Requirement already satisfied: six>=1.5 in c:\\python310\\lib\\site-packages (from python-dateutil>=2.7->matplotlib) (1.16.0)\n"
     ]
    },
    {
     "name": "stderr",
     "output_type": "stream",
     "text": [
      "\n",
      "[notice] A new release of pip available: 22.3 -> 22.3.1\n",
      "[notice] To update, run: python.exe -m pip install --upgrade pip\n"
     ]
    }
   ],
   "source": [
    "import sys\n",
    "!pip install numpy\n",
    "print(sys.executable)\n",
    "# line plot of input vs result for a 1d objective function\n",
    "# from matplotlib import pyplot\n",
    "!pip install matplotlib\n",
    "import math\n",
    "import matplotlib.pyplot as plt\n",
    "from numpy import arange\n",
    "import numpy as np"
   ]
  },
  {
   "cell_type": "markdown",
   "id": "9b6d512d-a76a-4526-8325-5e246bf73a71",
   "metadata": {
    "jp-MarkdownHeadingCollapsed": true,
    "tags": []
   },
   "source": [
    "## Task 1 Algorithms"
   ]
  },
  {
   "cell_type": "code",
   "execution_count": 603,
   "id": "31871f0a-3ba2-497d-a34b-2ed2c4bdd990",
   "metadata": {},
   "outputs": [],
   "source": [
    "#Task 1:\n",
    "# Implement all the functions f(x) and gi(x); ∀i ∈ [1, 4] independently, where each function \n",
    "# takes at least a Numpy array x. Each function should have an independent counter that \n",
    "# represents how many times a respective function has been called (or in other words evaluated)."
   ]
  },
  {
   "cell_type": "code",
   "execution_count": 604,
   "id": "cb68d11c-7b9b-45b1-8f0a-21e68ea3bbef",
   "metadata": {},
   "outputs": [],
   "source": [
    "# Resetting Counters for functions"
   ]
  },
  {
   "cell_type": "code",
   "execution_count": 605,
   "id": "76d9757d-2a6a-4b4e-8351-c86240e5664f",
   "metadata": {},
   "outputs": [],
   "source": [
    "fCounter = 0\n",
    "t1Counter = 0\n",
    "t2Counter = 0\n",
    "g1Counter = 0\n",
    "g2Counter = 0\n",
    "g3Counter = 0\n",
    "g4Counter = 0"
   ]
  },
  {
   "cell_type": "code",
   "execution_count": 606,
   "id": "477174b5-9563-4ed7-9482-8638eaa3d973",
   "metadata": {},
   "outputs": [],
   "source": [
    "# Defining functions for Task 1"
   ]
  },
  {
   "cell_type": "code",
   "execution_count": 607,
   "id": "3399a361-7e90-4502-98d2-867b98cbb25e",
   "metadata": {},
   "outputs": [],
   "source": [
    "def f(x):\n",
    "    global fCounter\n",
    "    fCounter += 1;\n",
    "    return (1.10471*pow(x[0],2)*x[1])+(0.04811*x[2]*x[3]*(14.0+x[1]))\n",
    "\n",
    "def T1(x):\n",
    "    global t1Counter\n",
    "    t1Counter += 1;\n",
    "    return (6000/(math.sqrt(2)*x[0]*x[1]))\n",
    "    \n",
    "def T2(x):\n",
    "    global t2Counter\n",
    "    t2Counter += 1;\n",
    "    return ((6000*(14+(0.5*x[1]))*math.sqrt(0.25*(pow(x[1],2)+pow((x[0]+x[2]),2)))))/(2*(0.707*x[0]*x[1]*(((pow(x[1],2))/12)+0.25*(pow((x[0]+x[2]),2)))))\n",
    "\n",
    "def g1(x):\n",
    "    global g1Counter\n",
    "    g1Counter += 1;\n",
    "    T = math.sqrt((pow(T1(x),2) + (pow(T2(x),2))) + ((x[1]*T1(x)*T2(x))/(math.sqrt(0.25*((pow(x[1],2)) + pow((x[0]+x[2]),2))))))\n",
    "    return (13600-T)\n",
    "    # if ((13600-T)>=0):\n",
    "    #     return True\n",
    "    # else:\n",
    "    #     return False\n",
    "\n",
    "def g2(x):\n",
    "    global g2Counter\n",
    "    g2Counter += 1;\n",
    "    Sigma = 504000/((pow(x[2],2))*x[3])\n",
    "    return (30000-Sigma)\n",
    "    # if((30000-Sigma) >= 0):\n",
    "    #     return True\n",
    "    # else:\n",
    "    #     return False\n",
    "\n",
    "def g3(x):\n",
    "    global g3Counter\n",
    "    g3Counter += 1;\n",
    "    return (x[3]-x[0])\n",
    "    # if((x[3]-x[0]) >=0):\n",
    "    #     return True\n",
    "    # else:\n",
    "    #     return False\n",
    "    \n",
    "def g4(x):\n",
    "    global g4Counter\n",
    "    g4Counter += 1;\n",
    "    Pc = 64746.022*(1-0.0282346*x[2])*x[2]*(pow(x[3],3))\n",
    "    return (Pc-6000)\n",
    "    # if ((Pc-6000) >=0):\n",
    "    #     return True\n",
    "    # else:\n",
    "    #     return False"
   ]
  },
  {
   "cell_type": "code",
   "execution_count": 608,
   "id": "84a30f5b-a3af-42d1-bf02-f51e1f92d66b",
   "metadata": {},
   "outputs": [],
   "source": [
    "# Testing Functions for Task 1 with given x1,x2,x3 and x4"
   ]
  },
  {
   "cell_type": "code",
   "execution_count": 609,
   "id": "550b3356-3f24-4e53-8878-d7f4d7d7a961",
   "metadata": {},
   "outputs": [
    {
     "name": "stdout",
     "output_type": "stream",
     "text": [
      "Objective Function output:  32.6024179859\n",
      "First constaint function output:  5308.848564674312\n",
      "Second constaint function output:  26736.764990548952\n",
      "Third constaint function output:  6.82\n",
      "Fourth constaint function output:  122317448.61430933\n"
     ]
    }
   ],
   "source": [
    "x = np.array([1.05, 3.15,4.43,7.87])\n",
    "print(\"Objective Function output: \", f(x))\n",
    "print(\"First constaint function output: \",g1(x))\n",
    "print(\"Second constaint function output: \",g2(x))\n",
    "print(\"Third constaint function output: \",g3(x))\n",
    "print(\"Fourth constaint function output: \",g4(x))"
   ]
  },
  {
   "cell_type": "code",
   "execution_count": 614,
   "id": "ba6081b1-26aa-437e-9398-ab7ca9851a73",
   "metadata": {},
   "outputs": [],
   "source": [
    "\"\"\"\n",
    "ConditionCheck is a combo check function that I made that calls all the condition functions g1 - g4 with input array of needed parameters (x1,x2,x3,x4)\n",
    "Returns True is all constraints are met\n",
    "Made this to simplfly constraint checking considering number of iterations made by Random Search and Simulated Annealing\n",
    "\"\"\"\n",
    "def conditionCheck(x):\n",
    "    conditionResults = [g1(x),g2(x),g3(x),g4(x)]\n",
    "    if(all(i >= 0 for i in conditionResults)):\n",
    "        return True\n",
    "    else:\n",
    "        return False\n",
    "        "
   ]
  },
  {
   "cell_type": "markdown",
   "id": "916ad373-c8da-4ab2-a2ff-4a9396a19a44",
   "metadata": {
    "tags": []
   },
   "source": [
    "## Constant Parameters Defined (with conditionCheck function)"
   ]
  },
  {
   "cell_type": "code",
   "execution_count": 610,
   "id": "e67edf50-9067-406f-a41d-48d0ff1d8f53",
   "metadata": {},
   "outputs": [],
   "source": [
    "# bounds for each variable\n",
    "# x1, x2 -> in the bounds of [0.125,5]\n",
    "# x3, x4 -> in the bounds of [0.1,10]"
   ]
  },
  {
   "cell_type": "code",
   "execution_count": 611,
   "id": "fc90773f-0c7b-4abf-bee1-41b6dd323717",
   "metadata": {},
   "outputs": [],
   "source": [
    "# Bounds definations for x1,x2,x3,x4"
   ]
  },
  {
   "cell_type": "code",
   "execution_count": 612,
   "id": "2905f435-4166-47e4-bf76-1f4cbfcefcf4",
   "metadata": {},
   "outputs": [],
   "source": [
    "lower_bound = np.array([0.125,0.125,0.1,0.1])\n",
    "upper_bound = np.array([5,5,10,10])\n",
    "bounds = np.empty((4,2)) #Bounds combined for easier use in Simulated Annealing function\n",
    "for j in range(len(upper_bound)):\n",
    "    bounds[j] = np.array([lower_bound[j],upper_bound[j]])\n",
    "# bounds=np.asarray([[0.125,5],[0.125,5],[0.125,10],[0.125,10]]) <-- Alternative way to define bounds that's most restrictive\n",
    "number_of_samples = 10000"
   ]
  },
  {
   "cell_type": "code",
   "execution_count": 613,
   "id": "9ca276a3-1ef6-433c-bcb3-61cc3794e6ce",
   "metadata": {},
   "outputs": [
    {
     "name": "stdout",
     "output_type": "stream",
     "text": [
      "[[ 0.125  5.   ]\n",
      " [ 0.125  5.   ]\n",
      " [ 0.1   10.   ]\n",
      " [ 0.1   10.   ]]\n"
     ]
    }
   ],
   "source": [
    "print(bounds) #visually showing bounds variable"
   ]
  },
  {
   "cell_type": "code",
   "execution_count": 615,
   "id": "d002b71d-8c3d-4755-a160-672a4836de90",
   "metadata": {},
   "outputs": [],
   "source": [
    "#ConditionCheck is a combo check function that I made that calls all the condition functions g1 - g4 with array of needed parameters\n",
    "#Returns True is all constraints are met\n",
    "# Made this to simplfly constraint checking considering number of iterations made by Random Search and Simulated Annealing"
   ]
  },
  {
   "cell_type": "markdown",
   "id": "4de194d0-c4fe-4d91-95eb-58169b693335",
   "metadata": {
    "jp-MarkdownHeadingCollapsed": true,
    "tags": []
   },
   "source": [
    "## Task 2 -Random Search"
   ]
  },
  {
   "cell_type": "code",
   "execution_count": 616,
   "id": "d298cd0d-0625-4ea0-922b-7b4f03eda6b4",
   "metadata": {},
   "outputs": [
    {
     "name": "stdout",
     "output_type": "stream",
     "text": [
      "The best solution found is:[0.83221415 3.53218757 5.09836997 1.95040234] with the Random search giving a fMin of 11.09\n"
     ]
    }
   ],
   "source": [
    "from random import random\n",
    "import numpy as np\n",
    "def random_search(function, max_iter, lower_bound, upper_bound):\n",
    "    \"\"\"\n",
    "    Parameters:\n",
    "    function - function f(x) will be used to produce result to compare with inputed params\n",
    "    max_iter - number of loops taken by algorithm\n",
    "    lower_bounds - lower bound for x1,x2,x3 and x4\n",
    "    upper_bounds - upper bound for x1,x2,x3 and x4\n",
    "    \"\"\"\n",
    "    points_to_evaluate = np.random.uniform(low=lower_bound,\n",
    "                                         high=upper_bound,\n",
    "                                         size=(max_iter, len(lower_bound)))\n",
    "    \n",
    "    results = np.array([function(point) for point in points_to_evaluate])\n",
    "    best_ind = 0;\n",
    "    best_value = 999999;\n",
    "    for result in results:\n",
    "        if((best_value > results[int(result)]) and (conditionCheck(points_to_evaluate[int(result)]))):\n",
    "            best_value = results[int(result)]\n",
    "            best_ind = int(result);\n",
    "    return points_to_evaluate[best_ind], results[best_ind]\n",
    "\n",
    "\n",
    "\"\"\"\n",
    "previously defined hyper-parameters\n",
    "lower_bound = np.array([0.125,0.125,0.1,0.1])\n",
    "upper_bound = np.array([5,5,10,10])\n",
    "number_of_samples = 10000\n",
    "\"\"\"\n",
    "res = random_search(f, number_of_samples,\n",
    "                    lower_bound, upper_bound)\n",
    "\n",
    "print(\"The best solution found is:{} with the Random search giving a fMin of {:.2f}\".format(res[0], res[1]))"
   ]
  },
  {
   "cell_type": "code",
   "execution_count": 617,
   "id": "4785eaa7-0c7b-4caf-b610-343b4d20fa18",
   "metadata": {},
   "outputs": [
    {
     "name": "stdout",
     "output_type": "stream",
     "text": [
      "[0.83221415 3.53218757 5.09836997 1.95040234]\n",
      "11.089871982580053\n",
      "True\n"
     ]
    }
   ],
   "source": [
    "print(res[0])\n",
    "print(f(res[0]))\n",
    "print(conditionCheck(res[0]))"
   ]
  },
  {
   "cell_type": "markdown",
   "id": "da138799-62f6-48f7-a813-be3feb0a1232",
   "metadata": {
    "tags": []
   },
   "source": [
    "## Task 3 - Simulated Annealing"
   ]
  },
  {
   "cell_type": "code",
   "execution_count": 618,
   "id": "b8850851-1420-4a76-80f7-3686d1946221",
   "metadata": {},
   "outputs": [],
   "source": [
    "from numpy import asarray\n",
    "from numpy import exp\n",
    "from numpy.random import randn\n",
    "from numpy.random import rand\n",
    "from numpy.random import seed\n",
    "from matplotlib import pyplot\n",
    "import random\n",
    "import warnings"
   ]
  },
  {
   "cell_type": "code",
   "execution_count": 619,
   "id": "233e1ce0-c2b1-4b7e-ab3d-c89a99ea7abd",
   "metadata": {},
   "outputs": [
    {
     "data": {
      "image/png": "[encoded data removed]",
      "text/plain": [
       "<Figure size 640x480 with 1 Axes>"
      ]
     },
     "metadata": {},
     "output_type": "display_data"
    },
    {
     "name": "stdout",
     "output_type": "stream",
     "text": [
      "The best solution is:[-0.40971907  5.04503601  6.43241843  0.40868764] with the least sum of squared error 3.34\n"
     ]
    }
   ],
   "source": [
    "def simulatedAnnealing(function, max_iter, step_size,temp, bounds, line_graph):\n",
    "    \"\"\"\n",
    "    Parameters:\n",
    "    function - function f(x) will be used to produce result to compare with inputed params\n",
    "    max_iter - number of loops taken by algorithm\n",
    "    step_size - random step with a gaussian distribution where the mean is our current point and the standard deviation is defind by the \"step_size\".\n",
    "                Which means that 99% of the steps taken will be within 3 * step_size of the current point\n",
    "    temp - starting temperature of algorithm which represents the distance of the trial point from the current point (will decrease overtime, so the algorithm with focus in values further on)\n",
    "    bounds - 2D array combo which includes the lower and higher bounds\n",
    "    line_graph - boolen on if you want to print a line graph with function\n",
    "    \"\"\"\n",
    "    #suppress warnings for \"RuntimeWarning: overflow encountered in exp\" for metropolis\n",
    "    warnings.filterwarnings('ignore')\n",
    "    # create initial guess that is within the bounds given but random at first\n",
    "    # While loop to make sure the initial guess is valid with conditions g1,g2,g3 and g4.\n",
    "    # Through testing, at worst this can give 1-10 attempts at initialially first set of parems, which is insignificant in 1000+ iterations that all be done later in algorithm\n",
    "    while(True):\n",
    "        best_params = bounds[:, 0] + rand(len(bounds)) * (bounds[:, 1] - bounds[:, 0])\n",
    "        if(conditionCheck(best_params)):\n",
    "            break\n",
    "    best_eval = function(*[best_params]) #best recored result\n",
    "    curr_params, curr_eval = best_params, best_eval\n",
    "    \n",
    "    scores = list()#keep track of score for improvment\n",
    "    for i in range(max_iter):\n",
    "        # Takes to neighbouring results\n",
    "        candidate_params = curr_params + randn(len(bounds)) * step_size\n",
    "        candidate_evalution = function(candidate_params)\n",
    "        #check if new result is better then previous best\n",
    "        if candidate_evalution < best_eval and conditionCheck(candidate_params):\n",
    "            #store new best parameters and Result\n",
    "            best_params, best_eval = candidate_params, candidate_evalution\n",
    "            scores.append(best_eval)\n",
    "        diff = candidate_evalution - curr_eval\n",
    "        # calculate temperature for current epoch\n",
    "        t = temp / float(i + 1)\n",
    "        # calculate metropolis acceptance criterion\n",
    "        metropolis = exp(-diff / t)\n",
    "        \n",
    "        # check if the new point can be kept and stays within the previously defined conditions\n",
    "        if ((diff<0 or rand() < metropolis) and conditionCheck(candidate_params)):\n",
    "            # store the new current point\n",
    "            curr_params, curr_eval = candidate_params, candidate_evalution\n",
    "    \n",
    "    # line plot of best scores (mostly used for testing)\n",
    "    if (line_graph == True):\n",
    "        pyplot.plot(scores,'.-')\n",
    "        pyplot.xlabel('Improvement Number')\n",
    "        pyplot.ylabel('Evaluation f(x)')\n",
    "        pyplot.show()\n",
    "    return best_params, best_eval\n",
    "\n",
    "res=simulatedAnnealing(f, 10000, 0.4,10,bounds, True)\n",
    "print(\"The best solution is:{} with the least sum of squared error {:.2f}\".format(res[0], res[1]))"
   ]
  },
  {
   "cell_type": "code",
   "execution_count": 620,
   "id": "709a5e44-dff1-43de-a6ab-ade83cca0c31",
   "metadata": {},
   "outputs": [
    {
     "name": "stdout",
     "output_type": "stream",
     "text": [
      "3.344289846097036\n",
      "True\n"
     ]
    }
   ],
   "source": [
    "print(f(res[0]))\n",
    "print(conditionCheck(res[0]))"
   ]
  },
  {
   "cell_type": "markdown",
   "id": "1fecc858-7948-421e-a2e4-d374405ff4fe",
   "metadata": {
    "tags": []
   },
   "source": [
    "## Task 4 -Box Plot comparison"
   ]
  },
  {
   "cell_type": "code",
   "execution_count": 626,
   "id": "e7602daf-ebf7-4bcf-8f0f-9fb24587d4c4",
   "metadata": {},
   "outputs": [
    {
     "name": "stdout",
     "output_type": "stream",
     "text": [
      "Final Counters for functions: \n",
      "fCounter:  1322088\n",
      "t1Counter:  1475246\n",
      "t2Counter:  1475246\n",
      "g1Counter:  737623\n",
      "g2Counter:  737623\n",
      "g3Counter:  737623\n",
      "g4Counter:  737623\n"
     ]
    },
    {
     "data": {
      "image/png": "[encoded data removed]",
      "text/plain": [
       "<Figure size 640x480 with 1 Axes>"
      ]
     },
     "metadata": {},
     "output_type": "display_data"
    }
   ],
   "source": [
    "from matplotlib import pyplot\n",
    "n_repeats = 21\n",
    "line_graph = False #if they want a line chart printed with result of simulated annealing\n",
    "# run grid search and pick the best value in  a list\n",
    "res_simulated_annealing = [simulatedAnnealing(f, 10000, 0.1,10,bounds, line_graph)[-1]\n",
    "            for i in range(n_repeats)]\n",
    "# run random search and pick the best value\n",
    "res_random = [random_search(f, 10000,\n",
    "                  lower_bound, upper_bound)[-1]\n",
    "            for i in range(n_repeats)]\n",
    "\n",
    "plt.boxplot([res_simulated_annealing,res_random])\n",
    "plt.title(\"21 results with 10000 iterations\")\n",
    "plt.xticks([1,2], ['Simulated Annealing','Random Search'])\n",
    "plt.ylabel(\"Best Objective Value\")\n",
    "\n",
    "print(\"Final Counters for functions: \")\n",
    "print(\"fCounter: \",fCounter)\n",
    "print(\"t1Counter: \",t1Counter)\n",
    "print(\"t2Counter: \",t2Counter)\n",
    "print(\"g1Counter: \",g1Counter)\n",
    "print(\"g2Counter: \",g2Counter)\n",
    "print(\"g3Counter: \",g3Counter)\n",
    "print(\"g4Counter: \",g4Counter)"
   ]
  },
  {
   "cell_type": "code",
   "execution_count": 631,
   "id": "2860c070-4b18-4e58-b19f-3f4527e714ef",
   "metadata": {},
   "outputs": [
    {
     "data": {
      "text/plain": [
       "\"\\nTask 4 Evalution on box plot shown above:\\n\\n- Random Search is incredible unreiable when producing consistent result as seen it's range of final results (which is represented the distance between it's highest and lowest blox plot results)\\n    This is because every time the algorithm is run, a new set of randomly created params are produced. Each set statically has a large range of Fmin(x) results, thus causing this large range in results\\n\\n- Simulated Annealing on the other hand has each of it's iterations are based on the previous iterations results. Which means that each iteration of results\\nare likely to be better then the last (if the algorithm has calculated correctly).\\n\\n- Due to this consistently of pushing iterations closer and closer to a better results, it means that each final (best) results is largly consistent (as shown by how small the\\nSimulated annealing box plot is, and shown by how small the distance between the smallest and largest results produced by the algorithm)\\n\\n- Simulated annealing produces better results then Random Search on average (as shown on the box plot by the yellow line representing the average is lower)\\nand produces the best result every (as shown in the box plot, the lowest Objective Value is produced by the Simulated Annealing)\\n\\n- To show how benificial increase iterations is to simulated annealing, look at 10,000 iterations vs 1000 iterations (as seen below) plotted in a box plot.\\n10,000 iterations results are closer for simulated annealing as it has had more time to focus it's answer\\n\""
      ]
     },
     "execution_count": 631,
     "metadata": {},
     "output_type": "execute_result"
    }
   ],
   "source": [
    "\"\"\"\n",
    "Task 4 Evalution on box plot shown above:\n",
    "\n",
    "- Random Search is incredible unreiable when producing consistent result as seen it's range of final results (which is represented the distance between it's highest and lowest blox plot results)\n",
    "    This is because every time the algorithm is run, a new set of randomly created params are produced. Each set statically has a large range of Fmin(x) results, thus causing this large range in results\n",
    "\n",
    "- Simulated Annealing on the other hand has each of it's iterations are based on the previous iterations results. Which means that each iteration of results\n",
    "are likely to be better then the last (if the algorithm has calculated correctly).\n",
    "\n",
    "- Due to this consistently of pushing iterations closer and closer to a better results, it means that each final (best) results is largly consistent (as shown by how small the\n",
    "Simulated annealing box plot is, and shown by how small the distance between the smallest and largest results produced by the algorithm)\n",
    "\n",
    "- Simulated annealing produces better results then Random Search on average (as shown on the box plot by the yellow line representing the average is lower)\n",
    "and produces the best result every (as shown in the box plot, the lowest Objective Value is produced by the Simulated Annealing)\n",
    "\n",
    "- To show how benificial increase iterations is to simulated annealing, look at 10,000 iterations vs 1000 iterations (as seen below) plotted in a box plot.\n",
    "10,000 iterations results are closer for simulated annealing as it has had more time to focus it's answer\n",
    "\"\"\""
   ]
  },
  {
   "cell_type": "code",
   "execution_count": 623,
   "id": "395157a2-53ec-4297-a29f-944788d63148",
   "metadata": {},
   "outputs": [
    {
     "data": {
      "text/plain": [
       "Text(0, 0.5, 'Best Objective Value')"
      ]
     },
     "execution_count": 623,
     "metadata": {},
     "output_type": "execute_result"
    },
    {
     "data": {
      "image/png": "[encoded data removed]",
      "text/plain": [
       "<Figure size 640x480 with 1 Axes>"
      ]
     },
     "metadata": {},
     "output_type": "display_data"
    }
   ],
   "source": [
    "n_repeats = 21\n",
    "# run grid search and pick the best value in  a list\n",
    "res_simulated_annealing = [simulatedAnnealing(f, 1000,0.1,10,bounds, False)[-1]\n",
    "            for i in range(n_repeats)]\n",
    "# run random search and pick the best value\n",
    "res_random = [random_search(f, 1000,\n",
    "                  lower_bound, upper_bound)[-1]\n",
    "            for i in range(n_repeats)]\n",
    "\n",
    "plt.boxplot([res_simulated_annealing,res_random])\n",
    "plt.title(\"21 results with 1000 iterations\")\n",
    "plt.xticks([1,2], ['Simulated Annealing','Random Search'])\n",
    "plt.ylabel(\"Best Objective Value\")"
   ]
  }
 ],
 "metadata": {
  "kernelspec": {
   "display_name": "Python 3 (ipykernel)",
   "language": "python",
   "name": "python3"
  },
  "language_info": {
   "codemirror_mode": {
    "name": "ipython",
    "version": 3
   },
   "file_extension": ".py",
   "mimetype": "text/x-python",
   "name": "python",
   "nbconvert_exporter": "python",
   "pygments_lexer": "ipython3",
   "version": "3.10.7"
  }
 },
 "nbformat": 4,
 "nbformat_minor": 5
}
