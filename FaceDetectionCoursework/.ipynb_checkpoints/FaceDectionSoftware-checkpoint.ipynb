{
 "cells": [
  {
   "cell_type": "code",
   "execution_count": 5,
   "id": "641f185d-b724-4b2f-9611-10eb8da0476c",
   "metadata": {},
   "outputs": [],
   "source": [
    "import numpy as np\n",
    "import cv2\n",
    "import pickle\n",
    "\n",
    "cap = cv2.VideoCapture(0)"
   ]
  },
  {
   "cell_type": "code",
   "execution_count": 14,
   "id": "fb93d724-249a-4370-b95b-590c6b229ff2",
   "metadata": {
    "tags": []
   },
   "outputs": [
    {
     "ename": "AttributeError",
     "evalue": "module 'cv2' has no attribute 'face'",
     "output_type": "error",
     "traceback": [
      "\u001b[1;31m---------------------------------------------------------------------------\u001b[0m",
      "\u001b[1;31mAttributeError\u001b[0m                            Traceback (most recent call last)",
      "Cell \u001b[1;32mIn[14], line 2\u001b[0m\n\u001b[0;32m      1\u001b[0m face_cascade \u001b[38;5;241m=\u001b[39m cv2\u001b[38;5;241m.\u001b[39mCascadeClassifier(\u001b[38;5;124m'\u001b[39m\u001b[38;5;124mcascades/data/haarcascade_frontalface_alt2.xml\u001b[39m\u001b[38;5;124m'\u001b[39m)\n\u001b[1;32m----> 2\u001b[0m recognizer \u001b[38;5;241m=\u001b[39m \u001b[43mcv2\u001b[49m\u001b[38;5;241;43m.\u001b[39;49m\u001b[43mface\u001b[49m\u001b[38;5;241m.\u001b[39mLBPHFaceRecognizer_create() \n\u001b[0;32m      3\u001b[0m recognizer\u001b[38;5;241m.\u001b[39mread(\u001b[38;5;124m\"\u001b[39m\u001b[38;5;124mtrainner.yml\u001b[39m\u001b[38;5;124m\"\u001b[39m)\n\u001b[0;32m      5\u001b[0m labels \u001b[38;5;241m=\u001b[39m {\u001b[38;5;124m\"\u001b[39m\u001b[38;5;124mperson_name\u001b[39m\u001b[38;5;124m\"\u001b[39m: \u001b[38;5;241m1\u001b[39m}\n",
      "\u001b[1;31mAttributeError\u001b[0m: module 'cv2' has no attribute 'face'"
     ]
    }
   ],
   "source": [
    "face_cascade = cv2.CascadeClassifier('cascades/data/haarcascade_frontalface_alt2.xml')\n",
    "recognizer = cv2.face.LBPHFaceRecognizer_create() \n",
    "recognizer.read(\"trainner.yml\")\n",
    "\n",
    "labels = {\"person_name\": 1}\n",
    "with open(\"labels.pickle\", 'rb') as f:\n",
    "    og_labels = pickle.load(f)\n",
    "    labels = {v:k for k,v in labels.item()}"
   ]
  },
  {
   "cell_type": "code",
   "execution_count": null,
   "id": "e14000ba-b9e7-4786-998a-d871f2191250",
   "metadata": {
    "tags": []
   },
   "outputs": [],
   "source": [
    "cap = cv2.VideoCapture(0)"
   ]
  },
  {
   "cell_type": "code",
   "execution_count": null,
   "id": "1807e56a-32cf-466c-889c-c50979e4907e",
   "metadata": {
    "tags": []
   },
   "outputs": [],
   "source": [
    "while(True):\n",
    "    # capture frame-by-frame\n",
    "    ret, frame = cap.read()\n",
    "    gray = cv2.cvtColor(frame, cv2.COLOR_BGR2GRAY)\n",
    "    faces = face_cascade.detectMultiScale(gray, scaleFactor=1.5, minNeighbors=5)\n",
    "    for (x,y,w,h) in faces:\n",
    "        # print(x,y,w,h)\n",
    "        roi_gray = gray[y:y+h, x:x+w]\n",
    "        \n",
    "        #recognize? deep learned model predict keras tensorflow pytorch scikit learn\n",
    "        id_, conf = recognizer.predict()\n",
    "        #give labels to image and box\n",
    "        if conf>=45 and conf <= 85:\n",
    "            print(_id)\n",
    "            print(labels[id_])\n",
    "            font = cv2.FONT_HERSHEY_SIMPLESX\n",
    "            name = labels[id_]\n",
    "            color = (255, 255, 255)\n",
    "            stroke = 2\n",
    "            cv2.putText(frame, name, (x,y), font, 1, color, stroke, cv2.LINE_AA)\n",
    "            \n",
    "        \n",
    "        img_item = \"my-image.png\"\n",
    "        cv2.imwrite(img_item, roi_gray)\n",
    "        \n",
    "        color = (255, 0, 0)\n",
    "        stroke = 2\n",
    "        end_cord_x = x + w\n",
    "        end_cordy = y + h\n",
    "        cv2.rectangle(grame, (x,y), (end_cord_x, end_cord_y), color, stroke)\n",
    "        eyes = eye_cascade.detectMultiScale(roi_gray)\n",
    "        \n",
    "        for(ex, ey, ew, eh) in eyes:\n",
    "            cv2.rectangle(roi_color, (ex,ey),(ex+ew, ey+eh),(0,255,0),2)\n",
    "        \n",
    "    # Display the resulting frame\n",
    "    cv2.imshow('frame') = cap.read()\n",
    "    \n",
    "    cv2.imshow('frame', frame)\n",
    "    if cv2.waitkey(20) & 0xFF = ord('q')\n",
    "        break"
   ]
  },
  {
   "cell_type": "code",
   "execution_count": 7,
   "id": "3bd1514b-0e93-4a18-b995-28096d7be309",
   "metadata": {
    "tags": []
   },
   "outputs": [],
   "source": [
    "cap.release()\n",
    "cv2.destroyAllWindows()"
   ]
  },
  {
   "cell_type": "code",
   "execution_count": 8,
   "id": "524dd5cf-3ca5-4ce3-89f6-ac189eee61fa",
   "metadata": {
    "tags": []
   },
   "outputs": [
    {
     "name": "stdout",
     "output_type": "stream",
     "text": [
      "c:\\python\\python380real\\lib\\site-packages\\cv2\\__init__.py\n"
     ]
    }
   ],
   "source": [
    "print(cv2.__file__)"
   ]
  },
  {
   "cell_type": "code",
   "execution_count": null,
   "id": "2132d885-44af-41c8-8500-c760184d8818",
   "metadata": {},
   "outputs": [],
   "source": []
  }
 ],
 "metadata": {
  "kernelspec": {
   "display_name": "Python 3 (ipykernel)",
   "language": "python",
   "name": "python3"
  },
  "language_info": {
   "codemirror_mode": {
    "name": "ipython",
    "version": 3
   },
   "file_extension": ".py",
   "mimetype": "text/x-python",
   "name": "python",
   "nbconvert_exporter": "python",
   "pygments_lexer": "ipython3",
   "version": "3.8.0"
  }
 },
 "nbformat": 4,
 "nbformat_minor": 5
}
