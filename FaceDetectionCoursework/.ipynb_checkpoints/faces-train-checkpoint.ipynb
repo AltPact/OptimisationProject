{
 "cells": [
  {
   "cell_type": "code",
   "execution_count": null,
   "id": "33eb7ee0-8722-4dbd-9950-b57db712dc5e",
   "metadata": {},
   "outputs": [],
   "source": [
    "import cv2\n",
    "\n",
    "import os\n",
    "import numpy as np\n",
    "from PIL import Image\n",
    "\n",
    "face_cascade = cv2.CascadeClassifier('cascades/data/haarcascade_frontalface_alt2.xml')\n",
    "\n",
    "BASE_DIR = os.path.direname(os.path.abspath(__file__))\n",
    "image_dir = os.path.join(BASE_DIR,\"images\")\n",
    "\n",
    "current_id = 0\n",
    "label_ids = {}\n",
    "y_labels = []\n",
    "x_train = []\n",
    "\n",
    "for root, dirs, files in os.walk(image_dir):\n",
    "    for file in files:\n",
    "        if file.endswith(\"png\") or file.endswith(\"jpg\"):\n",
    "            path = os.path.join(root, file)\n",
    "            label = os.path.basename(os.path.dirname(path)).replace(\" \",\"-\").lower()\n",
    "            print(label, path)\n",
    "            \n",
    "            #checking for labels\n",
    "            if not label in label_ids:\n",
    "                label_ids[label] = current_id\n",
    "                current_id += 1\n",
    "            \n",
    "            id_ = label_ids[label]\n",
    "            print(label_ids)\n",
    "            # y_labels.append(label) #some number\n",
    "            # x_train.appen(path) #verify this image, turn into a NUMPY array, GRAY\n",
    "            pil_image = Image.open(path).convert(\"L\") #greyscale\n",
    "            image_array = np.array(pil_image, \"uint8\")\n",
    "            print(image_array)\n",
    "            faces = face_cascade.detectMultiScale(image_array, scaleFactor=1.5, minNeighbors=5)\n",
    "            \n",
    "            for (x, y, w, h) in faces:\n",
    "                roi = image_array[y:y+h, x:x+w]\n",
    "                x_train.append(roi)\n",
    "                y_labels.append(id_)\n"
   ]
  }
 ],
 "metadata": {
  "kernelspec": {
   "display_name": "Python 3 (ipykernel)",
   "language": "python",
   "name": "python3"
  },
  "language_info": {
   "codemirror_mode": {
    "name": "ipython",
    "version": 3
   },
   "file_extension": ".py",
   "mimetype": "text/x-python",
   "name": "python",
   "nbconvert_exporter": "python",
   "pygments_lexer": "ipython3",
   "version": "3.8.0"
  }
 },
 "nbformat": 4,
 "nbformat_minor": 5
}
